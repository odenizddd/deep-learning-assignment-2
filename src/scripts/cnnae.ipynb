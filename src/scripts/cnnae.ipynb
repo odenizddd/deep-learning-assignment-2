{
 "cells": [
  {
   "cell_type": "code",
   "execution_count": null,
   "id": "71c0a844",
   "metadata": {},
   "outputs": [],
   "source": [
    "import sys\n",
    "sys.path.append('../classes')"
   ]
  },
  {
   "cell_type": "code",
   "execution_count": null,
   "id": "5817edd2",
   "metadata": {},
   "outputs": [],
   "source": [
    "from DataLoader import DataLoaderFactory\n",
    "import os\n",
    "\n",
    "data_dir = \"../../data/quickdraw_subset_np\"\n",
    "\n",
    "input_file_name = \"train_images.npy\"\n",
    "label_file_name = \"train_labels.npy\"\n",
    "\n",
    "inputs_path = os.path.join(data_dir, input_file_name)\n",
    "labels_path = os.path.join(data_dir, label_file_name)\n",
    "\n",
    "train_loader, val_loader = DataLoaderFactory.build(\n",
    "    inputs_path, labels_path, val_ratio=0.1\n",
    ")"
   ]
  },
  {
   "cell_type": "code",
   "execution_count": null,
   "id": "3b6388ae",
   "metadata": {},
   "outputs": [],
   "source": [
    "from CNNAE import ConvolutionalAE\n",
    "import torch"
   ]
  },
  {
   "cell_type": "code",
   "execution_count": null,
   "id": "dc95bf76",
   "metadata": {},
   "outputs": [],
   "source": [
    "ae = ConvolutionalAE()\n",
    "\n",
    "optimizer = torch.optim.Adam(ae.parameters(), lr=0.001)\n",
    "\n",
    "ae.train_model(train_loader=train_loader, steps=1000, optimizer=optimizer)"
   ]
  },
  {
   "cell_type": "code",
   "execution_count": null,
   "id": "b497eb81",
   "metadata": {},
   "outputs": [],
   "source": [
    "ae.plot_history()"
   ]
  },
  {
   "cell_type": "code",
   "execution_count": null,
   "id": "436a3e7c",
   "metadata": {},
   "outputs": [],
   "source": [
    "un_trainedae = ConvolutionalAE()\n",
    "\n",
    "images, _ = train_loader.get_batch(3)\n",
    "x = torch.from_numpy(images).unsqueeze(1)\n",
    "x = x / 255.0\n",
    "\n",
    "n = images.shape[0]\n",
    "\n",
    "import matplotlib.pyplot as plt\n",
    "\n",
    "for i in range(1, n+1):\n",
    "\n",
    "    plt.subplot(n, 3, 1 + (i-1) * 3)\n",
    "    plt.imshow(images[i-1], cmap='gray')\n",
    "    plt.axis('off')\n",
    "    plt.title(\"Original\")\n",
    "\n",
    "    x_hat = un_trainedae(x)[i-1].squeeze(0).detach().numpy()\n",
    "    plt.subplot(n, 3, 2 + (i-1) * 3)\n",
    "    plt.imshow(x_hat, cmap='gray')\n",
    "    plt.axis('off')\n",
    "    plt.title(\"Untrained\")\n",
    "\n",
    "    x_hat = ae(x)[i-1].squeeze(0).detach().numpy()\n",
    "    plt.subplot(n, 3, 3 + (i-1) * 3)\n",
    "    plt.imshow(x_hat, cmap='gray')\n",
    "    plt.axis('off')\n",
    "    plt.title(\"Trained\")\n",
    "\n",
    "plt.tight_layout()\n",
    "plt.show()\n",
    "\n"
   ]
  }
 ],
 "metadata": {
  "kernelspec": {
   "display_name": "env",
   "language": "python",
   "name": "python3"
  },
  "language_info": {
   "codemirror_mode": {
    "name": "ipython",
    "version": 3
   },
   "file_extension": ".py",
   "mimetype": "text/x-python",
   "name": "python",
   "nbconvert_exporter": "python",
   "pygments_lexer": "ipython3",
   "version": "3.10.16"
  }
 },
 "nbformat": 4,
 "nbformat_minor": 5
}
