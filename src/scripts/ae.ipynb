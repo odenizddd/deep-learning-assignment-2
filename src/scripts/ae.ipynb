{
 "cells": [
  {
   "cell_type": "code",
   "execution_count": 1,
   "id": "71c0a844",
   "metadata": {},
   "outputs": [],
   "source": [
    "import sys\n",
    "sys.path.append('../classes')"
   ]
  },
  {
   "cell_type": "code",
   "execution_count": 3,
   "id": "5817edd2",
   "metadata": {},
   "outputs": [],
   "source": [
    "from DataLoader import DataLoaderFactory\n",
    "import os\n",
    "\n",
    "data_dir = \"../../data/quickdraw_subset_np\"\n",
    "\n",
    "input_file_name = \"train_images.npy\"\n",
    "label_file_name = \"train_labels.npy\"\n",
    "\n",
    "inputs_path = os.path.join(data_dir, input_file_name)\n",
    "labels_path = os.path.join(data_dir, label_file_name)\n",
    "\n",
    "train_loader, val_loader = DataLoaderFactory.build(\n",
    "    inputs_path, labels_path, val_ratio=0.1\n",
    ")"
   ]
  },
  {
   "cell_type": "code",
   "execution_count": null,
   "id": "1e3e3b0c",
   "metadata": {},
   "outputs": [
    {
     "name": "stdout",
     "output_type": "stream",
     "text": [
      "(2, 28, 28)\n"
     ]
    }
   ],
   "source": [
    "X, _ = train_loader.get_batch(1)\n",
    "\n",
    "X = X / 255.0\n",
    "print(X.shape)"
   ]
  }
 ],
 "metadata": {
  "kernelspec": {
   "display_name": "env",
   "language": "python",
   "name": "python3"
  },
  "language_info": {
   "codemirror_mode": {
    "name": "ipython",
    "version": 3
   },
   "file_extension": ".py",
   "mimetype": "text/x-python",
   "name": "python",
   "nbconvert_exporter": "python",
   "pygments_lexer": "ipython3",
   "version": "3.10.16"
  }
 },
 "nbformat": 4,
 "nbformat_minor": 5
}
