{
 "cells": [
  {
   "cell_type": "code",
   "execution_count": null,
   "id": "71c0a844",
   "metadata": {},
   "outputs": [],
   "source": [
    "import sys\n",
    "sys.path.append('../classes')"
   ]
  },
  {
   "cell_type": "code",
   "execution_count": null,
   "id": "5817edd2",
   "metadata": {},
   "outputs": [],
   "source": [
    "from DataLoader import DataLoaderFactory\n",
    "import os\n",
    "\n",
    "data_dir = \"../../data/quickdraw_subset_np\"\n",
    "\n",
    "input_file_name = \"train_images.npy\"\n",
    "label_file_name = \"train_labels.npy\"\n",
    "\n",
    "inputs_path = os.path.join(data_dir, input_file_name)\n",
    "labels_path = os.path.join(data_dir, label_file_name)\n",
    "\n",
    "train_loader, val_loader = DataLoaderFactory.build(\n",
    "    inputs_path, labels_path, val_ratio=0.1\n",
    ")"
   ]
  },
  {
   "cell_type": "code",
   "execution_count": null,
   "id": "24a8c968",
   "metadata": {},
   "outputs": [],
   "source": [
    "import torch\n",
    "\n",
    "device = \"cpu\"\n",
    "if torch.cuda.is_available():\n",
    "    device = \"cuda\"\n",
    "elif torch.backends.mps.is_available():\n",
    "    device = \"mps\"\n",
    "\n",
    "device = torch.device(device)\n",
    "print(f\"Using device: {device}\")"
   ]
  },
  {
   "cell_type": "code",
   "execution_count": null,
   "id": "3b6388ae",
   "metadata": {},
   "outputs": [],
   "source": [
    "from LSTMAE import LSTMAutoencoder\n",
    "import torch.optim as optim\n",
    "\n",
    "model = LSTMAutoencoder(input_dim=28, hidden_dim=128, latent_dim=128, num_layers=2).to(device)\n",
    "optimizer = optim.Adam(model.parameters(), lr=1e-3)\n"
   ]
  },
  {
   "cell_type": "code",
   "execution_count": null,
   "id": "fb37655d",
   "metadata": {},
   "outputs": [],
   "source": [
    "\n",
    "model.train_model(train_loader=train_loader, steps=1000, optimizer=optimizer, device=device, log_freq=10)"
   ]
  },
  {
   "cell_type": "code",
   "execution_count": null,
   "id": "7e289665",
   "metadata": {},
   "outputs": [],
   "source": [
    "model.plot_history()"
   ]
  },
  {
   "cell_type": "code",
   "execution_count": null,
   "id": "c908cf7f",
   "metadata": {},
   "outputs": [],
   "source": [
    "model.eval()\n",
    "\n",
    "un_trainedae = LSTMAutoencoder(input_dim=28, hidden_dim=128, latent_dim=128, num_layers=2).to(device)\n",
    "\n",
    "x, _ = val_loader.get_batch(3)\n",
    "x = torch.from_numpy(x).to(device)\n",
    "images = x / 255.0\n",
    "\n",
    "n = images.shape[0]\n",
    "\n",
    "import matplotlib.pyplot as plt\n",
    "\n",
    "for i in range(1, n+1):\n",
    "\n",
    "    plt.subplot(n, 3, 1 + (i-1) * 3)\n",
    "    plt.imshow(images[i-1].to(\"cpu\"), cmap='gray')\n",
    "    plt.axis('off')\n",
    "    plt.title(\"Original\")\n",
    "\n",
    "    with torch.no_grad():\n",
    "        reconstructed, _ = un_trainedae(images)\n",
    "    plt.subplot(n, 3, 2 + (i-1) * 3)\n",
    "    plt.imshow(reconstructed[i-1].to(\"cpu\").numpy(), cmap='gray')\n",
    "    plt.axis('off')\n",
    "    plt.title(\"Untrained\")\n",
    "\n",
    "    with torch.no_grad():\n",
    "        reconstructed, _ = model(images)\n",
    "    plt.subplot(n, 3, 3 + (i-1) * 3)\n",
    "    plt.imshow(reconstructed[i-1].to(\"cpu\").numpy(), cmap='gray')\n",
    "    plt.axis('off')\n",
    "    plt.title(\"Trained\")\n",
    "\n",
    "plt.tight_layout()\n",
    "plt.show()"
   ]
  },
  {
   "cell_type": "code",
   "execution_count": null,
   "id": "ff08d4d8",
   "metadata": {},
   "outputs": [],
   "source": [
    "import numpy as np\n",
    "from sklearn.manifold import TSNE\n",
    "\n",
    "model.eval()\n",
    "\n",
    "embeddings = []\n",
    "labels = []\n",
    "\n",
    "n = train_loader.num_samples\n",
    "batch_size = 256\n",
    "\n",
    "with torch.no_grad():\n",
    "    for i in range(n // batch_size):\n",
    "        x, y = train_loader.get_batch(batch_size)\n",
    "        x = torch.from_numpy(x).to(device)\n",
    "        images = x / 255.0\n",
    "\n",
    "        _, latent = model(images)\n",
    "        embeddings.append(latent.cpu().numpy())\n",
    "        labels.append(y)\n",
    "\n",
    "\n",
    "embeddings = np.concatenate(embeddings, axis=0)\n",
    "labels = np.concatenate(labels, axis=0)\n",
    "\n",
    "tsne = TSNE(n_components=2, random_state=0)\n",
    "embeddings_2d = tsne.fit_transform(embeddings)\n",
    "\n",
    "plt.scatter(embeddings_2d[:, 0], embeddings_2d[:, 1], c=labels, cmap='tab10', s=5)\n",
    "plt.colorbar()\n",
    "plt.title(\"2D t-SNE of Encoded Representations\")\n",
    "plt.show()\n",
    "        "
   ]
  }
 ],
 "metadata": {
  "kernelspec": {
   "display_name": "env",
   "language": "python",
   "name": "python3"
  },
  "language_info": {
   "codemirror_mode": {
    "name": "ipython",
    "version": 3
   },
   "file_extension": ".py",
   "mimetype": "text/x-python",
   "name": "python",
   "nbconvert_exporter": "python",
   "pygments_lexer": "ipython3",
   "version": "3.10.16"
  }
 },
 "nbformat": 4,
 "nbformat_minor": 5
}
